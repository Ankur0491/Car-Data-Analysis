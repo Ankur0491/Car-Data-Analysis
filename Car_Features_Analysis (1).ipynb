{
  "nbformat": 4,
  "nbformat_minor": 0,
  "metadata": {
    "colab": {
      "provenance": []
    },
    "kernelspec": {
      "name": "python3",
      "display_name": "Python 3"
    },
    "language_info": {
      "name": "python"
    }
  },
  "cells": [
    {
      "cell_type": "markdown",
      "source": [
        "# 1: Load the Dataset and Perform EDA"
      ],
      "metadata": {
        "id": "NqI_s0mlmuu3"
      }
    },
    {
      "cell_type": "code",
      "source": [
        "!gdown 1Kx-YSqU1VFZ6IDyJ8UVT9E-WQkpIlwYb"
      ],
      "metadata": {
        "colab": {
          "base_uri": "https://localhost:8080/"
        },
        "id": "KTdam4iJ-3WL",
        "outputId": "82c654f6-2e03-48a5-f742-6c54edf656a0"
      },
      "execution_count": 1,
      "outputs": [
        {
          "output_type": "stream",
          "name": "stdout",
          "text": [
            "Downloading...\n",
            "From: https://drive.google.com/uc?id=1Kx-YSqU1VFZ6IDyJ8UVT9E-WQkpIlwYb\n",
            "To: /content/CarFeatures.csv\n",
            "\r  0% 0.00/2.49k [00:00<?, ?B/s]\r100% 2.49k/2.49k [00:00<00:00, 1.02MB/s]\n"
          ]
        }
      ]
    },
    {
      "cell_type": "code",
      "source": [
        "import pandas as pd\n",
        "\n",
        "# Load the dataset\n",
        "df = pd.read_csv('CarFeatures.csv')\n",
        "\n",
        "# Display the column names\n",
        "print(\"\\n \\n Column names:\\n\",df.columns)\n",
        "\n",
        "print(\"\\n \\n Shape of the data frame (Row, Column):\\n\",df.shape)\n",
        "\n",
        "# Display the first few rows of the dataset\n",
        "print(\"\\n \\n First few rows of the dataset: \\n \\n\",df.head())\n",
        "\n",
        "# Display the summary of the dataset\n",
        "print(\"\\n \\n Summary of the dataset:\\n\")\n",
        "df.info()\n",
        "\n",
        "# Display the count of null values\n",
        "print(\"\\n \\n Count of null values: \\n\\n \",df.isnull().sum())\n",
        "\n",
        "# Display the data types\n",
        "print(\"\\n \\n The data types:\\n\\n\",df.dtypes)\n",
        "\n",
        "# Display the duplicate values\n",
        "print(\"\\n \\n The duplicate values:\\n\\n\",df.duplicated().sum())\n",
        "\n",
        "# Display the number of missing values\n",
        "print(\"\\n \\n The number of missing values:\\n\\n\",df.isnull().sum())\n",
        "\n",
        "# Display the number of unique values in each column\n",
        "print(\"\\n \\n The number of unique values in each column:\\n\\n\",df.nunique())\n",
        "\n",
        "\n",
        "# Display unique values in categorical columns\n",
        "print(\"\\n \\n Unique values in categorical columns:\\n\")\n",
        "for column in df.select_dtypes(include='object').columns:\n",
        "    print(f\"{column}: {df[column].unique()}\")\n",
        "\n"
      ],
      "metadata": {
        "colab": {
          "base_uri": "https://localhost:8080/"
        },
        "id": "ybYp_9YUnZSf",
        "outputId": "5d6ef080-548a-486c-b61d-20f9700620b6"
      },
      "execution_count": 5,
      "outputs": [
        {
          "output_type": "stream",
          "name": "stdout",
          "text": [
            "\n",
            " \n",
            " Column names:\n",
            " Index(['Make', 'Fuel Type', 'Aspiration', 'Number of Doors', 'Body Style',\n",
            "       'Drive Wheels', 'Engine Location', 'Number of Cylinders', 'Wheel Base',\n",
            "       'Length', 'Width', 'Height', 'Curb Weight', 'Engine Size', 'Horsepower',\n",
            "       'City MPG', 'Highway MPG', 'Price'],\n",
            "      dtype='object')\n",
            "\n",
            " \n",
            " Shape of the data frame (Row, Column):\n",
            " (25, 18)\n",
            "\n",
            " \n",
            " First few rows of the dataset: \n",
            " \n",
            "          Make Fuel Type Aspiration Number of Doors   Body Style Drive Wheels  \\\n",
            "0      Toyota    Diesel        Std             Two  Convertible          Fwd   \n",
            "1  Mitsubishi    Diesel        Std            Four  Convertible          Fwd   \n",
            "2   Chevrolet       Gas      Turbo            Four    Hatchback          Rwd   \n",
            "3  Mitsubishi       Gas      Turbo            Four    Hatchback          Fwd   \n",
            "4    Mercedes       Gas        Std            Four        Sedan          Rwd   \n",
            "\n",
            "  Engine Location Number of Cylinders  Wheel Base  Length  Width  Height  \\\n",
            "0           Front              Twelve        95.1   175.9   60.6    59.4   \n",
            "1            Rear                Four        91.7   153.9   60.5    55.1   \n",
            "2           Front                 Two       116.2   203.5   65.3    58.5   \n",
            "3           Front               Three       112.8   154.3   64.9    51.4   \n",
            "4            Rear                 Two       115.1   143.4   62.6    49.6   \n",
            "\n",
            "   Curb Weight  Engine Size  Horsepower  City MPG  Highway MPG  Price  \n",
            "0         1758          252         279        40           41   5272  \n",
            "1         1887           95         150        32           42  31393  \n",
            "2         3815          231         129        13           41  40450  \n",
            "3         3367          106         230        39           21  37881  \n",
            "4         3433          294          96        46           52  18087  \n",
            "\n",
            " \n",
            " Summary of the dataset:\n",
            "\n",
            "<class 'pandas.core.frame.DataFrame'>\n",
            "RangeIndex: 25 entries, 0 to 24\n",
            "Data columns (total 18 columns):\n",
            " #   Column               Non-Null Count  Dtype  \n",
            "---  ------               --------------  -----  \n",
            " 0   Make                 25 non-null     object \n",
            " 1   Fuel Type            25 non-null     object \n",
            " 2   Aspiration           25 non-null     object \n",
            " 3   Number of Doors      25 non-null     object \n",
            " 4   Body Style           25 non-null     object \n",
            " 5   Drive Wheels         25 non-null     object \n",
            " 6   Engine Location      25 non-null     object \n",
            " 7   Number of Cylinders  25 non-null     object \n",
            " 8   Wheel Base           25 non-null     float64\n",
            " 9   Length               25 non-null     float64\n",
            " 10  Width                25 non-null     float64\n",
            " 11  Height               25 non-null     float64\n",
            " 12  Curb Weight          25 non-null     int64  \n",
            " 13  Engine Size          25 non-null     int64  \n",
            " 14  Horsepower           25 non-null     int64  \n",
            " 15  City MPG             25 non-null     int64  \n",
            " 16  Highway MPG          25 non-null     int64  \n",
            " 17  Price                25 non-null     int64  \n",
            "dtypes: float64(4), int64(6), object(8)\n",
            "memory usage: 3.6+ KB\n",
            "\n",
            " \n",
            " Count of null values: \n",
            "\n",
            "  Make                   0\n",
            "Fuel Type              0\n",
            "Aspiration             0\n",
            "Number of Doors        0\n",
            "Body Style             0\n",
            "Drive Wheels           0\n",
            "Engine Location        0\n",
            "Number of Cylinders    0\n",
            "Wheel Base             0\n",
            "Length                 0\n",
            "Width                  0\n",
            "Height                 0\n",
            "Curb Weight            0\n",
            "Engine Size            0\n",
            "Horsepower             0\n",
            "City MPG               0\n",
            "Highway MPG            0\n",
            "Price                  0\n",
            "dtype: int64\n",
            "\n",
            " \n",
            " The data types:\n",
            "\n",
            " Make                    object\n",
            "Fuel Type               object\n",
            "Aspiration              object\n",
            "Number of Doors         object\n",
            "Body Style              object\n",
            "Drive Wheels            object\n",
            "Engine Location         object\n",
            "Number of Cylinders     object\n",
            "Wheel Base             float64\n",
            "Length                 float64\n",
            "Width                  float64\n",
            "Height                 float64\n",
            "Curb Weight              int64\n",
            "Engine Size              int64\n",
            "Horsepower               int64\n",
            "City MPG                 int64\n",
            "Highway MPG              int64\n",
            "Price                    int64\n",
            "dtype: object\n",
            "\n",
            " \n",
            " The duplicate values:\n",
            "\n",
            " 0\n",
            "\n",
            " \n",
            " The number of missing values:\n",
            "\n",
            " Make                   0\n",
            "Fuel Type              0\n",
            "Aspiration             0\n",
            "Number of Doors        0\n",
            "Body Style             0\n",
            "Drive Wheels           0\n",
            "Engine Location        0\n",
            "Number of Cylinders    0\n",
            "Wheel Base             0\n",
            "Length                 0\n",
            "Width                  0\n",
            "Height                 0\n",
            "Curb Weight            0\n",
            "Engine Size            0\n",
            "Horsepower             0\n",
            "City MPG               0\n",
            "Highway MPG            0\n",
            "Price                  0\n",
            "dtype: int64\n",
            "\n",
            " \n",
            " The number of unique values in each column:\n",
            "\n",
            " Make                   10\n",
            "Fuel Type               2\n",
            "Aspiration              2\n",
            "Number of Doors         2\n",
            "Body Style              5\n",
            "Drive Wheels            3\n",
            "Engine Location         2\n",
            "Number of Cylinders     7\n",
            "Wheel Base             24\n",
            "Length                 25\n",
            "Width                  22\n",
            "Height                 23\n",
            "Curb Weight            25\n",
            "Engine Size            23\n",
            "Horsepower             24\n",
            "City MPG               20\n",
            "Highway MPG            18\n",
            "Price                  25\n",
            "dtype: int64\n",
            "\n",
            " \n",
            " Unique values in categorical columns:\n",
            "\n",
            "Make: ['Toyota' 'Mitsubishi' 'Chevrolet' 'Mercedes' 'Audi' 'Mazda' 'BMW'\n",
            " 'Nissan' 'Honda' 'Ford']\n",
            "Fuel Type: ['Diesel' 'Gas']\n",
            "Aspiration: ['Std' 'Turbo']\n",
            "Number of Doors: ['Two' 'Four']\n",
            "Body Style: ['Convertible' 'Hatchback' 'Sedan' 'Wagon' 'Hardtop']\n",
            "Drive Wheels: ['Fwd' 'Rwd' '4wd']\n",
            "Engine Location: ['Front' 'Rear']\n",
            "Number of Cylinders: ['Twelve' 'Four' 'Two' 'Three' 'Eight' 'Five' 'Six']\n"
          ]
        }
      ]
    },
    {
      "cell_type": "markdown",
      "source": [
        "# 2. Summarize the Data Using Descriptive Statistics"
      ],
      "metadata": {
        "id": "NvQqA0e0omYc"
      }
    },
    {
      "cell_type": "code",
      "source": [
        "# Summarize the data using descriptive statistics\n",
        "descriptive_stats = df.describe()\n",
        "print(descriptive_stats)\n"
      ],
      "metadata": {
        "colab": {
          "base_uri": "https://localhost:8080/"
        },
        "id": "-7g91HQ_ogkI",
        "outputId": "5e975c6b-cbee-4133-a816-868762d99e04"
      },
      "execution_count": 3,
      "outputs": [
        {
          "output_type": "stream",
          "name": "stdout",
          "text": [
            "       Wheel Base      Length      Width     Height  Curb Weight  Engine Size  \\\n",
            "count   25.000000   25.000000  25.000000  25.000000    25.000000    25.000000   \n",
            "mean   105.736000  173.928000  65.868000  52.680000  2907.720000   192.360000   \n",
            "std      9.046403   18.508523   3.632804   3.623534   777.650924    79.342548   \n",
            "min     91.700000  143.400000  60.500000  47.800000  1488.000000    79.000000   \n",
            "25%     96.000000  161.400000  62.500000  50.000000  2108.000000   106.000000   \n",
            "50%    106.800000  172.400000  66.300000  51.800000  3231.000000   199.000000   \n",
            "75%    113.900000  187.800000  68.500000  55.100000  3433.000000   252.000000   \n",
            "max    119.600000  207.600000  71.500000  59.800000  3922.000000   319.000000   \n",
            "\n",
            "       Horsepower   City MPG  Highway MPG         Price  \n",
            "count   25.000000  25.000000    25.000000     25.000000  \n",
            "mean   168.760000  29.720000    37.640000  22684.920000  \n",
            "std     73.189981  10.659581    10.664896  10684.205266  \n",
            "min     50.000000  13.000000    16.000000   5272.000000  \n",
            "25%    100.000000  24.000000    30.000000  14838.000000  \n",
            "50%    168.000000  29.000000    41.000000  18524.000000  \n",
            "75%    231.000000  38.000000    45.000000  31393.000000  \n",
            "max    288.000000  49.000000    53.000000  40466.000000  \n"
          ]
        }
      ]
    },
    {
      "cell_type": "markdown",
      "source": [
        "# 3: Identify the Costliest and Cheapest Car by Average Price"
      ],
      "metadata": {
        "id": "LDgREOlupCFE"
      }
    },
    {
      "cell_type": "code",
      "source": [
        "# Find the costliest and cheapest car by average price\n",
        "\n",
        "# Calculate mean price by 'Make'\n",
        "mean_prices = df.groupby('Make')['Price'].mean()\n",
        "print(round(mean_prices),2)\n",
        "# Identify the costliest car by average price\n",
        "costliest_car = mean_prices.idxmax()\n",
        "\n",
        "# Identify the cheapest car by average price\n",
        "cheapest_car = mean_prices.idxmin()\n",
        "\n",
        "print(\"\\nCostliest car by average price:\", costliest_car)\n",
        "print(\"Cheapest car by average price:\", cheapest_car)\n"
      ],
      "metadata": {
        "colab": {
          "base_uri": "https://localhost:8080/"
        },
        "id": "PygmyRdPovWe",
        "outputId": "951d4b15-56b2-4396-ae49-618e859fae78"
      },
      "execution_count": 18,
      "outputs": [
        {
          "output_type": "stream",
          "name": "stdout",
          "text": [
            "Make\n",
            "Audi          27944.0\n",
            "BMW           20077.0\n",
            "Chevrolet     40450.0\n",
            "Ford           8246.0\n",
            "Honda         14109.0\n",
            "Mazda         18686.0\n",
            "Mercedes      22832.0\n",
            "Mitsubishi    30457.0\n",
            "Nissan        14838.0\n",
            "Toyota        25292.0\n",
            "Name: Price, dtype: float64 2\n",
            "\n",
            "Costliest car by average price: Chevrolet\n",
            "Cheapest car by average price: Ford\n"
          ]
        }
      ]
    },
    {
      "cell_type": "markdown",
      "source": [
        "# 4: Which Fuel Type Car Has the Highest Average Price?"
      ],
      "metadata": {
        "id": "MlDRNOVLprtp"
      }
    },
    {
      "cell_type": "code",
      "source": [
        "# Find the fuel type with the highest average price\n",
        "fuel_type_avg_price = df.groupby('Fuel Type')['Price'].mean()\n",
        "highest_avg_price_fuel_type = fuel_type_avg_price.idxmax()\n",
        "\n",
        "print(f\"The fuel type with the highest average price is: {highest_avg_price_fuel_type}\")\n"
      ],
      "metadata": {
        "colab": {
          "base_uri": "https://localhost:8080/"
        },
        "id": "WDcH6W4CpxtK",
        "outputId": "990cb3da-1dc4-4251-910b-15182f88c853"
      },
      "execution_count": 10,
      "outputs": [
        {
          "output_type": "stream",
          "name": "stdout",
          "text": [
            "The fuel type with the highest average price is: Gas\n"
          ]
        }
      ]
    },
    {
      "cell_type": "markdown",
      "source": [
        "# 5: Construct a Contingency Table (Using 'make' as the Row Variable)"
      ],
      "metadata": {
        "id": "kqWw4diPqIWV"
      }
    },
    {
      "cell_type": "code",
      "source": [
        "# Construct a contingency table using 'make' as the row variable\n",
        "contingency_table = pd.crosstab(df['Make'], df['Fuel Type'])\n",
        "print(contingency_table)\n"
      ],
      "metadata": {
        "colab": {
          "base_uri": "https://localhost:8080/"
        },
        "id": "K-dJOyGNqMox",
        "outputId": "e79226c9-1542-4510-fbb3-2830725cc5a6"
      },
      "execution_count": 62,
      "outputs": [
        {
          "output_type": "stream",
          "name": "stdout",
          "text": [
            "Fuel Type   Diesel  Gas\n",
            "Make                   \n",
            "Audi             2    1\n",
            "BMW              4    0\n",
            "Chevrolet        0    1\n",
            "Ford             0    2\n",
            "Honda            0    1\n",
            "Mazda            2    1\n",
            "Mercedes         1    2\n",
            "Mitsubishi       1    2\n",
            "Nissan           0    1\n",
            "Toyota           2    2\n"
          ]
        }
      ]
    },
    {
      "cell_type": "markdown",
      "source": [
        "# 6: Probability that a Randomly Selected Car Will be a BMW"
      ],
      "metadata": {
        "id": "1bLMNlH-qfWz"
      }
    },
    {
      "cell_type": "code",
      "source": [
        "# Probability that a randomly selected car will be a BMW\n",
        "prob_bmw = (df['Make'] == 'BMW').mean()\n",
        "print(f\"Probability of selecting a BMW: {prob_bmw}\")\n"
      ],
      "metadata": {
        "colab": {
          "base_uri": "https://localhost:8080/"
        },
        "id": "qHNtTA0KqeqV",
        "outputId": "0d36120a-4b81-4fbb-8fa9-f5f19bd39a26"
      },
      "execution_count": 63,
      "outputs": [
        {
          "output_type": "stream",
          "name": "stdout",
          "text": [
            "Probability of selecting a BMW: 0.16\n"
          ]
        }
      ]
    },
    {
      "cell_type": "markdown",
      "source": [
        "# 7: Probability that a Randomly Selected Car Will be an Audi"
      ],
      "metadata": {
        "id": "BZCMolVTqtzd"
      }
    },
    {
      "cell_type": "code",
      "source": [
        "# Probability that a randomly selected car will be an Audi\n",
        "prob_audi = (df['Make'] == 'Audi').mean()\n",
        "print(f\"Probability of selecting an Audi: {prob_audi}\")\n"
      ],
      "metadata": {
        "colab": {
          "base_uri": "https://localhost:8080/"
        },
        "id": "ttLvPtkBqlMG",
        "outputId": "be76aa77-dea7-441f-d2ef-80aed5e94628"
      },
      "execution_count": 64,
      "outputs": [
        {
          "output_type": "stream",
          "name": "stdout",
          "text": [
            "Probability of selecting an Audi: 0.12\n"
          ]
        }
      ]
    },
    {
      "cell_type": "markdown",
      "source": [
        "# 8: Hypothesis Testing for Price of Gas Cars vs Diesel Cars"
      ],
      "metadata": {
        "id": "FPKn3yFvq2rs"
      }
    },
    {
      "cell_type": "code",
      "source": [
        "from scipy.stats import ttest_ind\n",
        "\n",
        "# Form the null and alternate hypothesis\n",
        "# H0: There is no significant difference in the price of Gas cars and Diesel cars\n",
        "# H1: There is a significant difference in the price of Gas cars and Diesel cars\n",
        "\n",
        "# Filter the dataset for Gas and Diesel cars\n",
        "gas_cars = df[df['Fuel Type'] == 'Gas']['Price']\n",
        "diesel_cars = df[df['Fuel Type'] == 'Diesel']['Price']\n",
        "\n",
        "# Perform t-test\n",
        "t_stat, p_value = ttest_ind(gas_cars, diesel_cars)\n",
        "print(f\"T-statistic: {t_stat}, P-value: {p_value}\")\n",
        "\n",
        "# Decision based on p-value\n",
        "if p_value < 0.05:\n",
        "    print(\"Reject the null hypothesis: The price of Gas cars is significantly different from that of Diesel cars.\")\n",
        "else:\n",
        "    print(\"Cannot reject the null hypothesis: The price of Gas cars is not significantly different from that of Diesel cars.\")\n"
      ],
      "metadata": {
        "colab": {
          "base_uri": "https://localhost:8080/"
        },
        "id": "kMHxSu_Nq7Tq",
        "outputId": "fffecc24-4702-4d1b-d5c4-47d6478d43cc"
      },
      "execution_count": 65,
      "outputs": [
        {
          "output_type": "stream",
          "name": "stdout",
          "text": [
            "T-statistic: 1.1236308256408953, P-value: 0.27276131360711153\n",
            "Cannot reject the null hypothesis: The price of Gas cars is not significantly different from that of Diesel cars.\n"
          ]
        }
      ]
    },
    {
      "cell_type": "markdown",
      "source": [
        "# 9: Probability that a Randomly Selected Car is a 'Luxury Car'\n",
        "\n",
        "Suppose you randomly select a car from this dataset. What is the probability that it is a 'Luxury Car' ?\n",
        "( consider BMW, Mercedes and Audi as a luxary car under the column Make )\n"
      ],
      "metadata": {
        "id": "hxOiUAsgreHO"
      }
    },
    {
      "cell_type": "code",
      "source": [
        "# Consider BMW, Mercedes, and Audi as luxury cars\n",
        "luxury_brands = ['BMW', 'Mercedes', 'Audi']\n",
        "prob_luxury_car = df['Make'].isin(luxury_brands).mean()\n",
        "print(f\"Probability of selecting a luxury car: {prob_luxury_car}\")\n"
      ],
      "metadata": {
        "colab": {
          "base_uri": "https://localhost:8080/"
        },
        "id": "kvDZwx2ariYC",
        "outputId": "6e764b3d-28f4-4a8c-f6a5-29df0d2961d7"
      },
      "execution_count": 66,
      "outputs": [
        {
          "output_type": "stream",
          "name": "stdout",
          "text": [
            "Probability of selecting a luxury car: 0.4\n"
          ]
        }
      ]
    },
    {
      "cell_type": "markdown",
      "source": [
        "# 10: Number of Different Ways to Arrange Three Unique Cars in a Race\n",
        "\n",
        "You want to select a subset of three unique cars from the dataset to participate in a race. How many different ways can you arrange the cars in the race, considering their 'Make' as the criteria?"
      ],
      "metadata": {
        "id": "WHD8BIpErqZb"
      }
    },
    {
      "cell_type": "code",
      "source": [
        "from itertools import permutations\n",
        "\n",
        "# Number of ways to arrange three unique cars in a race\n",
        "unique_makes = df['Make'].unique()\n",
        "num_ways = len(list(permutations(unique_makes, 3)))\n",
        "print(f\"Number of different ways to arrange three unique cars in a race: {num_ways}\")\n"
      ],
      "metadata": {
        "colab": {
          "base_uri": "https://localhost:8080/"
        },
        "id": "fH7sQVAzrqCV",
        "outputId": "97aff8fd-655d-47f5-b7bd-39319be5304d"
      },
      "execution_count": 67,
      "outputs": [
        {
          "output_type": "stream",
          "name": "stdout",
          "text": [
            "Number of different ways to arrange three unique cars in a race: 720\n"
          ]
        }
      ]
    },
    {
      "cell_type": "markdown",
      "source": [
        "# 11: Probability that a Car with 8 Cylinders is a BMW\n",
        "\n"
      ],
      "metadata": {
        "id": "uFdH-jaErzOP"
      }
    },
    {
      "cell_type": "code",
      "source": [
        "# Probability that a car with 8 cylinders is a BMW\n",
        "eight_cyl_cars = df[df['Number of Cylinders'] == 'Eight']\n",
        "prob_bmw_eight_cyl = (eight_cyl_cars['Make'] == 'BMW').mean()\n",
        "print(f\"Probability that a car with 8 cylinders is a BMW: {prob_bmw_eight_cyl}\")\n"
      ],
      "metadata": {
        "colab": {
          "base_uri": "https://localhost:8080/"
        },
        "id": "k4DYMQ7jrp_O",
        "outputId": "2ce59b83-a507-4072-856a-797f6d02c546"
      },
      "execution_count": 68,
      "outputs": [
        {
          "output_type": "stream",
          "name": "stdout",
          "text": [
            "Probability that a car with 8 cylinders is a BMW: 0.4\n"
          ]
        }
      ]
    },
    {
      "cell_type": "markdown",
      "source": [
        "# 12: Probability of Selecting Exactly 3 Turbo Cars out of 7\n",
        "\n",
        "You are conducting a random survey by selecting 7 cars from the dataset. Calculate the probability that exactly 3 out of the 7 selected cars have 'Turbo' aspiratio"
      ],
      "metadata": {
        "id": "EGzQbZOysQPa"
      }
    },
    {
      "cell_type": "code",
      "source": [
        "from scipy.stats import binom\n",
        "\n",
        "# Probability that exactly 3 out of 7 selected cars have 'Turbo' aspiration\n",
        "total_cars = len(df)\n",
        "turbo_cars = (df['Aspiration'] == 'Turbo').sum()\n",
        "prob_turbo = turbo_cars / total_cars\n",
        "\n",
        "prob_3_turbo_out_of_7 = binom.pmf(3, 7, prob_turbo)\n",
        "print(f\"Probability of selecting exactly 3 Turbo cars out of 7: {prob_3_turbo_out_of_7}\")\n"
      ],
      "metadata": {
        "colab": {
          "base_uri": "https://localhost:8080/"
        },
        "id": "LG5MdvUGsPjQ",
        "outputId": "60ccdf81-e4ef-4ff8-9622-ce948817fc0a"
      },
      "execution_count": 69,
      "outputs": [
        {
          "output_type": "stream",
          "name": "stdout",
          "text": [
            "Probability of selecting exactly 3 Turbo cars out of 7: 0.29320959754240045\n"
          ]
        }
      ]
    }
  ]
}