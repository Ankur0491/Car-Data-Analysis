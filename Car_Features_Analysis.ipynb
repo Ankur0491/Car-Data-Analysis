{
  "nbformat": 4,
  "nbformat_minor": 0,
  "metadata": {
    "colab": {
      "provenance": []
    },
    "kernelspec": {
      "name": "python3",
      "display_name": "Python 3"
    },
    "language_info": {
      "name": "python"
    }
  },
  "cells": [
    {
      "cell_type": "markdown",
      "source": [
        "# 1: Load the Dataset and Perform EDA"
      ],
      "metadata": {
        "id": "NqI_s0mlmuu3"
      }
    },
    {
      "cell_type": "code",
      "source": [
        "import pandas as pd\n",
        "\n",
        "# Load the dataset\n",
        "df = pd.read_csv('CarFeatures Raw Data.csv')\n",
        "\n",
        "# Display the first few rows of the dataset\n",
        "print(df.head())\n",
        "\n",
        "# Display the summary of the dataset\n",
        "print(df.info())\n",
        "\n",
        "# Display descriptive statistics\n",
        "print(df.describe())\n",
        "\n",
        "# Display unique values in categorical columns\n",
        "for column in df.select_dtypes(include='object').columns:\n",
        "    print(f\"{column}: {df[column].unique()}\")\n"
      ],
      "metadata": {
        "colab": {
          "base_uri": "https://localhost:8080/"
        },
        "id": "ybYp_9YUnZSf",
        "outputId": "8f33c423-e3b0-4fac-feea-fe206427eff4"
      },
      "execution_count": null,
      "outputs": [
        {
          "output_type": "stream",
          "name": "stdout",
          "text": [
            "         Make Fuel Type Aspiration Number of Doors   Body Style Drive Wheels  \\\n",
            "0      Toyota    Diesel        Std             Two  Convertible          Fwd   \n",
            "1  Mitsubishi    Diesel        Std            Four  Convertible          Fwd   \n",
            "2   Chevrolet       Gas      Turbo            Four    Hatchback          Rwd   \n",
            "3  Mitsubishi       Gas      Turbo            Four    Hatchback          Fwd   \n",
            "4    Mercedes       Gas        Std            Four        Sedan          Rwd   \n",
            "\n",
            "  Engine Location Number of Cylinders  Wheel Base  Length  Width  Height  \\\n",
            "0           Front              Twelve        95.1   175.9   60.6    59.4   \n",
            "1            Rear                Four        91.7   153.9   60.5    55.1   \n",
            "2           Front                 Two       116.2   203.5   65.3    58.5   \n",
            "3           Front               Three       112.8   154.3   64.9    51.4   \n",
            "4            Rear                 Two       115.1   143.4   62.6    49.6   \n",
            "\n",
            "   Curb Weight  Engine Size  Horsepower  City MPG  Highway MPG  Price  \n",
            "0         1758          252         279        40           41   5272  \n",
            "1         1887           95         150        32           42  31393  \n",
            "2         3815          231         129        13           41  40450  \n",
            "3         3367          106         230        39           21  37881  \n",
            "4         3433          294          96        46           52  18087  \n",
            "<class 'pandas.core.frame.DataFrame'>\n",
            "RangeIndex: 25 entries, 0 to 24\n",
            "Data columns (total 18 columns):\n",
            " #   Column               Non-Null Count  Dtype  \n",
            "---  ------               --------------  -----  \n",
            " 0   Make                 25 non-null     object \n",
            " 1   Fuel Type            25 non-null     object \n",
            " 2   Aspiration           25 non-null     object \n",
            " 3   Number of Doors      25 non-null     object \n",
            " 4   Body Style           25 non-null     object \n",
            " 5   Drive Wheels         25 non-null     object \n",
            " 6   Engine Location      25 non-null     object \n",
            " 7   Number of Cylinders  25 non-null     object \n",
            " 8   Wheel Base           25 non-null     float64\n",
            " 9   Length               25 non-null     float64\n",
            " 10  Width                25 non-null     float64\n",
            " 11  Height               25 non-null     float64\n",
            " 12  Curb Weight          25 non-null     int64  \n",
            " 13  Engine Size          25 non-null     int64  \n",
            " 14  Horsepower           25 non-null     int64  \n",
            " 15  City MPG             25 non-null     int64  \n",
            " 16  Highway MPG          25 non-null     int64  \n",
            " 17  Price                25 non-null     int64  \n",
            "dtypes: float64(4), int64(6), object(8)\n",
            "memory usage: 3.6+ KB\n",
            "None\n",
            "       Wheel Base      Length      Width     Height  Curb Weight  Engine Size  \\\n",
            "count   25.000000   25.000000  25.000000  25.000000    25.000000    25.000000   \n",
            "mean   105.736000  173.928000  65.868000  52.680000  2907.720000   192.360000   \n",
            "std      9.046403   18.508523   3.632804   3.623534   777.650924    79.342548   \n",
            "min     91.700000  143.400000  60.500000  47.800000  1488.000000    79.000000   \n",
            "25%     96.000000  161.400000  62.500000  50.000000  2108.000000   106.000000   \n",
            "50%    106.800000  172.400000  66.300000  51.800000  3231.000000   199.000000   \n",
            "75%    113.900000  187.800000  68.500000  55.100000  3433.000000   252.000000   \n",
            "max    119.600000  207.600000  71.500000  59.800000  3922.000000   319.000000   \n",
            "\n",
            "       Horsepower   City MPG  Highway MPG         Price  \n",
            "count   25.000000  25.000000    25.000000     25.000000  \n",
            "mean   168.760000  29.720000    37.640000  22684.920000  \n",
            "std     73.189981  10.659581    10.664896  10684.205266  \n",
            "min     50.000000  13.000000    16.000000   5272.000000  \n",
            "25%    100.000000  24.000000    30.000000  14838.000000  \n",
            "50%    168.000000  29.000000    41.000000  18524.000000  \n",
            "75%    231.000000  38.000000    45.000000  31393.000000  \n",
            "max    288.000000  49.000000    53.000000  40466.000000  \n",
            "Make: ['Toyota' 'Mitsubishi' 'Chevrolet' 'Mercedes' 'Audi' 'Mazda' 'BMW'\n",
            " 'Nissan' 'Honda' 'Ford']\n",
            "Fuel Type: ['Diesel' 'Gas']\n",
            "Aspiration: ['Std' 'Turbo']\n",
            "Number of Doors: ['Two' 'Four']\n",
            "Body Style: ['Convertible' 'Hatchback' 'Sedan' 'Wagon' 'Hardtop']\n",
            "Drive Wheels: ['Fwd' 'Rwd' '4wd']\n",
            "Engine Location: ['Front' 'Rear']\n",
            "Number of Cylinders: ['Twelve' 'Four' 'Two' 'Three' 'Eight' 'Five' 'Six']\n"
          ]
        }
      ]
    },
    {
      "cell_type": "markdown",
      "source": [
        "# 2. Summarize the Data Using Descriptive Statistics"
      ],
      "metadata": {
        "id": "NvQqA0e0omYc"
      }
    },
    {
      "cell_type": "code",
      "source": [
        "# Summarize the data using descriptive statistics\n",
        "descriptive_stats = df.describe()\n",
        "print(descriptive_stats)\n"
      ],
      "metadata": {
        "colab": {
          "base_uri": "https://localhost:8080/"
        },
        "id": "-7g91HQ_ogkI",
        "outputId": "59ca19a7-5d90-43a3-d0ea-442b29a1914b"
      },
      "execution_count": null,
      "outputs": [
        {
          "output_type": "stream",
          "name": "stdout",
          "text": [
            "       Wheel Base      Length      Width     Height  Curb Weight  Engine Size  \\\n",
            "count   25.000000   25.000000  25.000000  25.000000    25.000000    25.000000   \n",
            "mean   105.736000  173.928000  65.868000  52.680000  2907.720000   192.360000   \n",
            "std      9.046403   18.508523   3.632804   3.623534   777.650924    79.342548   \n",
            "min     91.700000  143.400000  60.500000  47.800000  1488.000000    79.000000   \n",
            "25%     96.000000  161.400000  62.500000  50.000000  2108.000000   106.000000   \n",
            "50%    106.800000  172.400000  66.300000  51.800000  3231.000000   199.000000   \n",
            "75%    113.900000  187.800000  68.500000  55.100000  3433.000000   252.000000   \n",
            "max    119.600000  207.600000  71.500000  59.800000  3922.000000   319.000000   \n",
            "\n",
            "       Horsepower   City MPG  Highway MPG         Price  \n",
            "count   25.000000  25.000000    25.000000     25.000000  \n",
            "mean   168.760000  29.720000    37.640000  22684.920000  \n",
            "std     73.189981  10.659581    10.664896  10684.205266  \n",
            "min     50.000000  13.000000    16.000000   5272.000000  \n",
            "25%    100.000000  24.000000    30.000000  14838.000000  \n",
            "50%    168.000000  29.000000    41.000000  18524.000000  \n",
            "75%    231.000000  38.000000    45.000000  31393.000000  \n",
            "max    288.000000  49.000000    53.000000  40466.000000  \n"
          ]
        }
      ]
    },
    {
      "cell_type": "markdown",
      "source": [
        "# 3: Identify the Costliest and Cheapest Car by Average Price"
      ],
      "metadata": {
        "id": "LDgREOlupCFE"
      }
    },
    {
      "cell_type": "code",
      "source": [
        "# Find the costliest and cheapest car by average price\n",
        "costliest_car = df[df['Price'] == df['Price'].max()]\n",
        "cheapest_car = df[df['Price'] == df['Price'].min()]\n",
        "\n",
        "print(\"Costliest Car:\")\n",
        "print(costliest_car)\n",
        "print()\n",
        "print(\"Cheapest Car:\")\n",
        "print(cheapest_car)\n"
      ],
      "metadata": {
        "colab": {
          "base_uri": "https://localhost:8080/"
        },
        "id": "PygmyRdPovWe",
        "outputId": "23c8c746-d84f-41be-a228-fe93b6d10202"
      },
      "execution_count": null,
      "outputs": [
        {
          "output_type": "stream",
          "name": "stdout",
          "text": [
            "Costliest Car:\n",
            "     Make Fuel Type Aspiration Number of Doors Body Style Drive Wheels  \\\n",
            "6  Toyota       Gas        Std             Two      Sedan          Fwd   \n",
            "\n",
            "  Engine Location Number of Cylinders  Wheel Base  Length  Width  Height  \\\n",
            "6           Front                 Two        99.1   165.9   66.3    50.1   \n",
            "\n",
            "   Curb Weight  Engine Size  Horsepower  City MPG  Highway MPG  Price  \n",
            "6         1488          280         103        49           51  40466  \n",
            "\n",
            "Cheapest Car:\n",
            "     Make Fuel Type Aspiration Number of Doors   Body Style Drive Wheels  \\\n",
            "0  Toyota    Diesel        Std             Two  Convertible          Fwd   \n",
            "\n",
            "  Engine Location Number of Cylinders  Wheel Base  Length  Width  Height  \\\n",
            "0           Front              Twelve        95.1   175.9   60.6    59.4   \n",
            "\n",
            "   Curb Weight  Engine Size  Horsepower  City MPG  Highway MPG  Price  \n",
            "0         1758          252         279        40           41   5272  \n"
          ]
        }
      ]
    },
    {
      "cell_type": "markdown",
      "source": [
        "# 4: Which Fuel Type Car Has the Highest Average Price?"
      ],
      "metadata": {
        "id": "MlDRNOVLprtp"
      }
    },
    {
      "cell_type": "code",
      "source": [
        "# Find the fuel type with the highest average price\n",
        "fuel_type_avg_price = df.groupby('Fuel Type')['Price'].mean()\n",
        "highest_avg_price_fuel_type = fuel_type_avg_price.idxmax()\n",
        "\n",
        "print(f\"The fuel type with the highest average price is {highest_avg_price_fuel_type}\")\n"
      ],
      "metadata": {
        "colab": {
          "base_uri": "https://localhost:8080/"
        },
        "id": "WDcH6W4CpxtK",
        "outputId": "33750d2f-40fd-43b3-d661-183f5ea103be"
      },
      "execution_count": null,
      "outputs": [
        {
          "output_type": "stream",
          "name": "stdout",
          "text": [
            "The fuel type with the highest average price is Gas\n"
          ]
        }
      ]
    },
    {
      "cell_type": "markdown",
      "source": [
        "# 5: Construct a Contingency Table (Using 'make' as the Row Variable)"
      ],
      "metadata": {
        "id": "kqWw4diPqIWV"
      }
    },
    {
      "cell_type": "code",
      "source": [
        "# Construct a contingency table using 'make' as the row variable\n",
        "contingency_table = pd.crosstab(df['Make'], df['Fuel Type'])\n",
        "print(contingency_table)\n"
      ],
      "metadata": {
        "colab": {
          "base_uri": "https://localhost:8080/"
        },
        "id": "K-dJOyGNqMox",
        "outputId": "4a989f5c-053a-432b-e74d-6ca5f7d9c634"
      },
      "execution_count": null,
      "outputs": [
        {
          "output_type": "stream",
          "name": "stdout",
          "text": [
            "Fuel Type   Diesel  Gas\n",
            "Make                   \n",
            "Audi             2    1\n",
            "BMW              4    0\n",
            "Chevrolet        0    1\n",
            "Ford             0    2\n",
            "Honda            0    1\n",
            "Mazda            2    1\n",
            "Mercedes         1    2\n",
            "Mitsubishi       1    2\n",
            "Nissan           0    1\n",
            "Toyota           2    2\n"
          ]
        }
      ]
    },
    {
      "cell_type": "markdown",
      "source": [
        "# 6: Probability that a Randomly Selected Car Will be a BMW"
      ],
      "metadata": {
        "id": "1bLMNlH-qfWz"
      }
    },
    {
      "cell_type": "code",
      "source": [
        "# Probability that a randomly selected car will be a BMW\n",
        "prob_bmw = (df['Make'] == 'BMW').mean()\n",
        "print(f\"Probability of selecting a BMW: {prob_bmw}\")\n"
      ],
      "metadata": {
        "colab": {
          "base_uri": "https://localhost:8080/"
        },
        "id": "qHNtTA0KqeqV",
        "outputId": "8604102f-ba38-4bdd-baf1-a209677a6802"
      },
      "execution_count": null,
      "outputs": [
        {
          "output_type": "stream",
          "name": "stdout",
          "text": [
            "Probability of selecting a BMW: 0.16\n"
          ]
        }
      ]
    },
    {
      "cell_type": "markdown",
      "source": [
        "# 7: Probability that a Randomly Selected Car Will be an Audi"
      ],
      "metadata": {
        "id": "BZCMolVTqtzd"
      }
    },
    {
      "cell_type": "code",
      "source": [
        "# Probability that a randomly selected car will be an Audi\n",
        "prob_audi = (df['Make'] == 'Audi').mean()\n",
        "print(f\"Probability of selecting an Audi: {prob_audi}\")\n"
      ],
      "metadata": {
        "colab": {
          "base_uri": "https://localhost:8080/"
        },
        "id": "ttLvPtkBqlMG",
        "outputId": "c6713237-2ed7-4a0f-ef1f-c0a665c2389f"
      },
      "execution_count": null,
      "outputs": [
        {
          "output_type": "stream",
          "name": "stdout",
          "text": [
            "Probability of selecting an Audi: 0.12\n"
          ]
        }
      ]
    },
    {
      "cell_type": "markdown",
      "source": [
        "# 8: Hypothesis Testing for Price of Gas Cars vs Diesel Cars"
      ],
      "metadata": {
        "id": "FPKn3yFvq2rs"
      }
    },
    {
      "cell_type": "code",
      "source": [
        "from scipy.stats import ttest_ind\n",
        "\n",
        "# Form the null and alternate hypothesis\n",
        "# H0: There is no significant difference in the price of Gas cars and Diesel cars\n",
        "# H1: There is a significant difference in the price of Gas cars and Diesel cars\n",
        "\n",
        "# Filter the dataset for Gas and Diesel cars\n",
        "gas_cars = df[df['Fuel Type'] == 'Gas']['Price']\n",
        "diesel_cars = df[df['Fuel Type'] == 'Diesel']['Price']\n",
        "\n",
        "# Perform t-test\n",
        "t_stat, p_value = ttest_ind(gas_cars, diesel_cars)\n",
        "print(f\"T-statistic: {t_stat}, P-value: {p_value}\")\n",
        "\n",
        "# Decision based on p-value\n",
        "if p_value < 0.05:\n",
        "    print(\"Reject the null hypothesis: The price of Gas cars is significantly different from that of Diesel cars.\")\n",
        "else:\n",
        "    print(\"Cannot reject the null hypothesis: The price of Gas cars is not significantly different from that of Diesel cars.\")\n"
      ],
      "metadata": {
        "colab": {
          "base_uri": "https://localhost:8080/"
        },
        "id": "kMHxSu_Nq7Tq",
        "outputId": "5c306efd-e3e4-4eef-b407-355054ab2b50"
      },
      "execution_count": null,
      "outputs": [
        {
          "output_type": "stream",
          "name": "stdout",
          "text": [
            "T-statistic: 1.1236308256408953, P-value: 0.27276131360711153\n",
            "Cannot reject the null hypothesis: The price of Gas cars is not significantly different from that of Diesel cars.\n"
          ]
        }
      ]
    },
    {
      "cell_type": "markdown",
      "source": [
        "# 9: Probability that a Randomly Selected Car is a 'Luxury Car'\n",
        "\n",
        "Suppose you randomly select a car from this dataset. What is the probability that it is a 'Luxury Car' ?\n",
        "( consider BMW, Mercedes and Audi as a luxary car under the column Make )\n"
      ],
      "metadata": {
        "id": "hxOiUAsgreHO"
      }
    },
    {
      "cell_type": "code",
      "source": [
        "# Consider BMW, Mercedes, and Audi as luxury cars\n",
        "luxury_brands = ['BMW', 'Mercedes', 'Audi']\n",
        "prob_luxury_car = df['Make'].isin(luxury_brands).mean()\n",
        "print(f\"Probability of selecting a luxury car: {prob_luxury_car}\")\n"
      ],
      "metadata": {
        "colab": {
          "base_uri": "https://localhost:8080/"
        },
        "id": "kvDZwx2ariYC",
        "outputId": "a6aa90a7-b41e-449f-ce5d-b60119d022ce"
      },
      "execution_count": null,
      "outputs": [
        {
          "output_type": "stream",
          "name": "stdout",
          "text": [
            "Probability of selecting a luxury car: 0.4\n"
          ]
        }
      ]
    },
    {
      "cell_type": "markdown",
      "source": [
        "# 10: Number of Different Ways to Arrange Three Unique Cars in a Race\n",
        "\n",
        "You want to select a subset of three unique cars from the dataset to participate in a race. How many different ways can you arrange the cars in the race, considering their 'Make' as the criteria?"
      ],
      "metadata": {
        "id": "WHD8BIpErqZb"
      }
    },
    {
      "cell_type": "code",
      "source": [
        "from itertools import permutations\n",
        "\n",
        "# Number of ways to arrange three unique cars in a race\n",
        "unique_makes = df['Make'].unique()\n",
        "num_ways = len(list(permutations(unique_makes, 3)))\n",
        "print(f\"Number of different ways to arrange three unique cars in a race: {num_ways}\")\n"
      ],
      "metadata": {
        "colab": {
          "base_uri": "https://localhost:8080/"
        },
        "id": "fH7sQVAzrqCV",
        "outputId": "a704ed07-2297-447e-f184-3e723791dde4"
      },
      "execution_count": null,
      "outputs": [
        {
          "output_type": "stream",
          "name": "stdout",
          "text": [
            "Number of different ways to arrange three unique cars in a race: 720\n"
          ]
        }
      ]
    },
    {
      "cell_type": "markdown",
      "source": [
        "# 11: Probability that a Car with 8 Cylinders is a BMW\n",
        "\n"
      ],
      "metadata": {
        "id": "uFdH-jaErzOP"
      }
    },
    {
      "cell_type": "code",
      "source": [
        "# Probability that a car with 8 cylinders is a BMW\n",
        "eight_cyl_cars = df[df['Number of Cylinders'] == 'Eight']\n",
        "prob_bmw_eight_cyl = (eight_cyl_cars['Make'] == 'BMW').mean()\n",
        "print(f\"Probability that a car with 8 cylinders is a BMW: {prob_bmw_eight_cyl}\")\n"
      ],
      "metadata": {
        "colab": {
          "base_uri": "https://localhost:8080/"
        },
        "id": "k4DYMQ7jrp_O",
        "outputId": "8eba4126-8600-46c7-99d8-c8d2daafffda"
      },
      "execution_count": null,
      "outputs": [
        {
          "output_type": "stream",
          "name": "stdout",
          "text": [
            "Probability that a car with 8 cylinders is a BMW: 0.4\n"
          ]
        }
      ]
    },
    {
      "cell_type": "markdown",
      "source": [
        "# 12: Probability of Selecting Exactly 3 Turbo Cars out of 7\n",
        "\n",
        "You are conducting a random survey by selecting 7 cars from the dataset. Calculate the probability that exactly 3 out of the 7 selected cars have 'Turbo' aspiratio"
      ],
      "metadata": {
        "id": "EGzQbZOysQPa"
      }
    },
    {
      "cell_type": "code",
      "source": [
        "from scipy.stats import binom\n",
        "\n",
        "# Probability that exactly 3 out of 7 selected cars have 'Turbo' aspiration\n",
        "total_cars = len(df)\n",
        "turbo_cars = (df['Aspiration'] == 'Turbo').sum()\n",
        "prob_turbo = turbo_cars / total_cars\n",
        "\n",
        "prob_3_turbo_out_of_7 = binom.pmf(3, 7, prob_turbo)\n",
        "print(f\"Probability of selecting exactly 3 Turbo cars out of 7: {prob_3_turbo_out_of_7}\")\n"
      ],
      "metadata": {
        "colab": {
          "base_uri": "https://localhost:8080/"
        },
        "id": "LG5MdvUGsPjQ",
        "outputId": "a835c056-2a10-463f-f5d3-1d0c4b541f7f"
      },
      "execution_count": null,
      "outputs": [
        {
          "output_type": "stream",
          "name": "stdout",
          "text": [
            "Probability of selecting exactly 3 Turbo cars out of 7: 0.29320959754240045\n"
          ]
        }
      ]
    },
    {
      "cell_type": "code",
      "source": [],
      "metadata": {
        "id": "TCPoSJe1xyiZ"
      },
      "execution_count": null,
      "outputs": []
    },
    {
      "cell_type": "markdown",
      "source": [
        "# AAA"
      ],
      "metadata": {
        "id": "hPSUGd4Exzom"
      }
    },
    {
      "cell_type": "code",
      "source": [
        "\n",
        "import pandas as pd\n",
        "from scipy.stats import ttest_ind, binom\n",
        "from itertools import permutations\n",
        "\n",
        "# Load the dataset\n",
        "df = pd.read_csv('CarFeatures.csv')\n",
        "\n",
        "# Perform EDA\n",
        "print(df.head())\n",
        "print(df.info())\n",
        "print(df.describe())\n",
        "\n",
        "for column in df.select_dtypes(include='object').columns:\n",
        "    print(f\"{column}: {df[column].unique()}\")\n",
        "\n",
        "# Summarize the data\n",
        "descriptive_stats = df.describe()\n",
        "print(descriptive_stats)\n",
        "\n",
        "# Identify costliest and cheapest cars\n",
        "costliest_car = df[df['Price'] == df['Price'].max()]\n",
        "cheapest_car = df[df['Price'] == df['Price'].min()]\n",
        "\n",
        "print(\"Costliest Car:\")\n",
        "print(costliest_car)\n",
        "\n",
        "print(\"Cheapest Car:\")\n",
        "print(cheapest_car)\n",
        "\n",
        "# Fuel type with highest average price\n",
        "fuel_type_avg_price = df.groupby('Fuel Type')['Price'].mean()\n",
        "highest_avg_price_fuel_type = fuel_type_avg_price.idxmax()\n",
        "print(f\"The fuel type with the highest average price is {highest_avg_price_fuel_type}\")\n",
        "\n",
        "# Contingency table\n",
        "contingency_table = pd.crosstab(df['Make'], df['Fuel Type'])\n",
        "print(contingency_table)\n",
        "\n",
        "# Probability calculations\n",
        "prob_bmw = (df['Make'] == 'BMW').mean()\n",
        "prob_audi = (df['Make'] == 'Audi').mean()\n",
        "print(f\"Probability of selecting a BMW: {prob_bmw}\")\n",
        "print(f\"Probability of selecting an Audi: {prob_audi}\")\n",
        "\n",
        "# Hypothesis testing\n",
        "gas_cars = df[df['Fuel Type'] == 'Gas']['Price']\n",
        "diesel_cars = df[df['Fuel Type'] == 'Diesel']['Price']\n",
        "t_stat, p_value = ttest_ind(gas_cars, diesel_cars)\n",
        "print(f\"T-statistic: {t_stat}, P-value: {p_value}\")\n",
        "\n",
        "if p_value < 0.05:\n",
        "    print(\"Reject the null hypothesis: The price of Gas cars is significantly different from that of Diesel cars.\")\n",
        "else:\n",
        "    print(\"Cannot reject the null hypothesis: The price of Gas cars is not significantly different from that of Diesel cars.\")\n",
        "\n",
        "# Probability of selecting a luxury car\n",
        "luxury_brands = ['BMW', 'Mercedes', 'Audi']\n",
        "prob_luxury_car = df['Make'].isin(luxury_brands).mean()\n",
        "print(f\"Probability of selecting a luxury car: {prob_luxury_car}\")\n",
        "\n",
        "# Ways to arrange three unique cars in a race\n",
        "unique_makes = df['Make'].unique()\n",
        "num_ways = len(list(permutations(unique_makes, 3)))\n",
        "print(f\"Number of different ways to arrange three unique cars in a race: {num_ways}\")\n",
        "\n",
        "# Probability that a car with 8 cylinders is a BMW\n",
        "eight_cyl_cars = df[df['Number of Cylinders'] == 8]\n",
        "if len(eight_cyl_cars) > 0:\n",
        "    prob_bmw_eight_cyl = (eight_cyl_cars['Make'] == 'BMW').mean()\n",
        "    print(f\"Probability that a car with 8 cylinders is a BMW: {prob_bmw_eight_cyl}\")\n",
        "else:\n",
        "    print(\"There are no cars with 8 cylinders in the dataset.\")\n",
        "\n",
        "# Probability of selecting exactly 3 Turbo cars out of 7\n",
        "total_cars = len(df)\n",
        "turbo_cars = (df['Aspiration'] == 'Turbo').sum()\n",
        "prob_turbo = turbo_cars / total_cars\n",
        "prob_3_turbo_out_of_7 = binom.pmf(3, 7, prob_turbo)\n",
        "print(f\"Probability of selecting exactly 3 Turbo cars out of 7: {prob_3_turbo_out_of_7}\")\n"
      ],
      "metadata": {
        "colab": {
          "base_uri": "https://localhost:8080/"
        },
        "id": "jj89wJ_Vx2Wk",
        "outputId": "c60e1d06-72a4-492e-f336-a746c7cca040"
      },
      "execution_count": 51,
      "outputs": [
        {
          "output_type": "stream",
          "name": "stdout",
          "text": [
            "         Make Fuel Type Aspiration Number of Doors   Body Style Drive Wheels  \\\n",
            "0      Toyota    Diesel        Std             Two  Convertible          Fwd   \n",
            "1  Mitsubishi    Diesel        Std            Four  Convertible          Fwd   \n",
            "2   Chevrolet       Gas      Turbo            Four    Hatchback          Rwd   \n",
            "3  Mitsubishi       Gas      Turbo            Four    Hatchback          Fwd   \n",
            "4    Mercedes       Gas        Std            Four        Sedan          Rwd   \n",
            "\n",
            "  Engine Location Number of Cylinders  Wheel Base  Length  Width  Height  \\\n",
            "0           Front              Twelve        95.1   175.9   60.6    59.4   \n",
            "1            Rear                Four        91.7   153.9   60.5    55.1   \n",
            "2           Front                 Two       116.2   203.5   65.3    58.5   \n",
            "3           Front               Three       112.8   154.3   64.9    51.4   \n",
            "4            Rear                 Two       115.1   143.4   62.6    49.6   \n",
            "\n",
            "   Curb Weight  Engine Size  Horsepower  City MPG  Highway MPG  Price  \n",
            "0         1758          252         279        40           41   5272  \n",
            "1         1887           95         150        32           42  31393  \n",
            "2         3815          231         129        13           41  40450  \n",
            "3         3367          106         230        39           21  37881  \n",
            "4         3433          294          96        46           52  18087  \n",
            "<class 'pandas.core.frame.DataFrame'>\n",
            "RangeIndex: 25 entries, 0 to 24\n",
            "Data columns (total 18 columns):\n",
            " #   Column               Non-Null Count  Dtype  \n",
            "---  ------               --------------  -----  \n",
            " 0   Make                 25 non-null     object \n",
            " 1   Fuel Type            25 non-null     object \n",
            " 2   Aspiration           25 non-null     object \n",
            " 3   Number of Doors      25 non-null     object \n",
            " 4   Body Style           25 non-null     object \n",
            " 5   Drive Wheels         25 non-null     object \n",
            " 6   Engine Location      25 non-null     object \n",
            " 7   Number of Cylinders  25 non-null     object \n",
            " 8   Wheel Base           25 non-null     float64\n",
            " 9   Length               25 non-null     float64\n",
            " 10  Width                25 non-null     float64\n",
            " 11  Height               25 non-null     float64\n",
            " 12  Curb Weight          25 non-null     int64  \n",
            " 13  Engine Size          25 non-null     int64  \n",
            " 14  Horsepower           25 non-null     int64  \n",
            " 15  City MPG             25 non-null     int64  \n",
            " 16  Highway MPG          25 non-null     int64  \n",
            " 17  Price                25 non-null     int64  \n",
            "dtypes: float64(4), int64(6), object(8)\n",
            "memory usage: 3.6+ KB\n",
            "None\n",
            "       Wheel Base      Length      Width     Height  Curb Weight  Engine Size  \\\n",
            "count   25.000000   25.000000  25.000000  25.000000    25.000000    25.000000   \n",
            "mean   105.736000  173.928000  65.868000  52.680000  2907.720000   192.360000   \n",
            "std      9.046403   18.508523   3.632804   3.623534   777.650924    79.342548   \n",
            "min     91.700000  143.400000  60.500000  47.800000  1488.000000    79.000000   \n",
            "25%     96.000000  161.400000  62.500000  50.000000  2108.000000   106.000000   \n",
            "50%    106.800000  172.400000  66.300000  51.800000  3231.000000   199.000000   \n",
            "75%    113.900000  187.800000  68.500000  55.100000  3433.000000   252.000000   \n",
            "max    119.600000  207.600000  71.500000  59.800000  3922.000000   319.000000   \n",
            "\n",
            "       Horsepower   City MPG  Highway MPG         Price  \n",
            "count   25.000000  25.000000    25.000000     25.000000  \n",
            "mean   168.760000  29.720000    37.640000  22684.920000  \n",
            "std     73.189981  10.659581    10.664896  10684.205266  \n",
            "min     50.000000  13.000000    16.000000   5272.000000  \n",
            "25%    100.000000  24.000000    30.000000  14838.000000  \n",
            "50%    168.000000  29.000000    41.000000  18524.000000  \n",
            "75%    231.000000  38.000000    45.000000  31393.000000  \n",
            "max    288.000000  49.000000    53.000000  40466.000000  \n",
            "Make: ['Toyota' 'Mitsubishi' 'Chevrolet' 'Mercedes' 'Audi' 'Mazda' 'BMW'\n",
            " 'Nissan' 'Honda' 'Ford']\n",
            "Fuel Type: ['Diesel' 'Gas']\n",
            "Aspiration: ['Std' 'Turbo']\n",
            "Number of Doors: ['Two' 'Four']\n",
            "Body Style: ['Convertible' 'Hatchback' 'Sedan' 'Wagon' 'Hardtop']\n",
            "Drive Wheels: ['Fwd' 'Rwd' '4wd']\n",
            "Engine Location: ['Front' 'Rear']\n",
            "Number of Cylinders: ['Twelve' 'Four' 'Two' 'Three' 'Eight' 'Five' 'Six']\n",
            "       Wheel Base      Length      Width     Height  Curb Weight  Engine Size  \\\n",
            "count   25.000000   25.000000  25.000000  25.000000    25.000000    25.000000   \n",
            "mean   105.736000  173.928000  65.868000  52.680000  2907.720000   192.360000   \n",
            "std      9.046403   18.508523   3.632804   3.623534   777.650924    79.342548   \n",
            "min     91.700000  143.400000  60.500000  47.800000  1488.000000    79.000000   \n",
            "25%     96.000000  161.400000  62.500000  50.000000  2108.000000   106.000000   \n",
            "50%    106.800000  172.400000  66.300000  51.800000  3231.000000   199.000000   \n",
            "75%    113.900000  187.800000  68.500000  55.100000  3433.000000   252.000000   \n",
            "max    119.600000  207.600000  71.500000  59.800000  3922.000000   319.000000   \n",
            "\n",
            "       Horsepower   City MPG  Highway MPG         Price  \n",
            "count   25.000000  25.000000    25.000000     25.000000  \n",
            "mean   168.760000  29.720000    37.640000  22684.920000  \n",
            "std     73.189981  10.659581    10.664896  10684.205266  \n",
            "min     50.000000  13.000000    16.000000   5272.000000  \n",
            "25%    100.000000  24.000000    30.000000  14838.000000  \n",
            "50%    168.000000  29.000000    41.000000  18524.000000  \n",
            "75%    231.000000  38.000000    45.000000  31393.000000  \n",
            "max    288.000000  49.000000    53.000000  40466.000000  \n",
            "Costliest Car:\n",
            "     Make Fuel Type Aspiration Number of Doors Body Style Drive Wheels  \\\n",
            "6  Toyota       Gas        Std             Two      Sedan          Fwd   \n",
            "\n",
            "  Engine Location Number of Cylinders  Wheel Base  Length  Width  Height  \\\n",
            "6           Front                 Two        99.1   165.9   66.3    50.1   \n",
            "\n",
            "   Curb Weight  Engine Size  Horsepower  City MPG  Highway MPG  Price  \n",
            "6         1488          280         103        49           51  40466  \n",
            "Cheapest Car:\n",
            "     Make Fuel Type Aspiration Number of Doors   Body Style Drive Wheels  \\\n",
            "0  Toyota    Diesel        Std             Two  Convertible          Fwd   \n",
            "\n",
            "  Engine Location Number of Cylinders  Wheel Base  Length  Width  Height  \\\n",
            "0           Front              Twelve        95.1   175.9   60.6    59.4   \n",
            "\n",
            "   Curb Weight  Engine Size  Horsepower  City MPG  Highway MPG  Price  \n",
            "0         1758          252         279        40           41   5272  \n",
            "The fuel type with the highest average price is Gas\n",
            "Fuel Type   Diesel  Gas\n",
            "Make                   \n",
            "Audi             2    1\n",
            "BMW              4    0\n",
            "Chevrolet        0    1\n",
            "Ford             0    2\n",
            "Honda            0    1\n",
            "Mazda            2    1\n",
            "Mercedes         1    2\n",
            "Mitsubishi       1    2\n",
            "Nissan           0    1\n",
            "Toyota           2    2\n",
            "Probability of selecting a BMW: 0.16\n",
            "Probability of selecting an Audi: 0.12\n",
            "T-statistic: 1.1236308256408953, P-value: 0.27276131360711153\n",
            "Cannot reject the null hypothesis: The price of Gas cars is not significantly different from that of Diesel cars.\n",
            "Probability of selecting a luxury car: 0.4\n",
            "Number of different ways to arrange three unique cars in a race: 720\n",
            "There are no cars with 8 cylinders in the dataset.\n",
            "Probability of selecting exactly 3 Turbo cars out of 7: 0.29320959754240045\n"
          ]
        }
      ]
    }
  ]
}